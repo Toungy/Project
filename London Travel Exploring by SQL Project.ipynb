{
 "cells": [
  {
   "cell_type": "markdown",
   "id": "cc55582f",
   "metadata": {},
   "source": [
    "# In this project,I will working with a information about public transport journey volume by transport type."
   ]
  },
  {
   "cell_type": "markdown",
   "id": "cb9086ea",
   "metadata": {},
   "source": [
    "![tower bridge](data:image/jpeg;base64,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)"
   ]
  },
  {
   "cell_type": "markdown",
   "id": "e64bfe25",
   "metadata": {},
   "source": [
    " ## Single table called"
   ]
  },
  {
   "cell_type": "markdown",
   "id": "6015d505",
   "metadata": {},
   "source": [
    "JOURNEYS"
   ]
  },
  {
   "cell_type": "markdown",
   "id": "5b515720",
   "metadata": {},
   "source": [
    "|Column|\tDefinition|\tData type|\n",
    "|:----:|:----:|:----:|\n",
    "|MONTH|\tMonth in number format, e.g., 1 equals January\t|INTEGER|\n",
    "|YEAR|\tYear\t|INTEGER|\n",
    "|DAYS|\tNumber of days in the given month|\tINTEGER|\n",
    "|REPORT_DATE\t|Date that the data was reported\t|DATE|\n",
    "|JOURNEY_TYPE|\tMethod of transport used|\tVARCHAR|\n",
    "|JOURNEYS_MILLIONS|\tMillions of journeys, measured in decimals\t|FLOAT|"
   ]
  },
  {
   "cell_type": "code",
   "execution_count": 2,
   "id": "a06db158",
   "metadata": {},
   "outputs": [
    {
     "data": {
      "text/plain": [
       "936"
      ]
     },
     "execution_count": 2,
     "metadata": {},
     "output_type": "execute_result"
    }
   ],
   "source": [
    "import pandas as pd\n",
    "import sqlite3 as sql\n",
    "df=pd.read_csv(\"tfl_journeys_final.csv\")\n",
    "conn = sql.connect('default.db')\n",
    "df.to_sql('tfl_table',conn)\n"
   ]
  },
  {
   "cell_type": "code",
   "execution_count": null,
   "id": "daa23a87",
   "metadata": {},
   "outputs": [],
   "source": [
    "# Incase you are trying to Re-create the table, it would fail.\n",
    "# In such scenarios, call the cleanup function to drop the existing table before re-creation.\n",
    "\n",
    "# def cleanup(table):\n",
    "#     cursor = conn.cursor()\n",
    "#     cursor.execute('DROP TABLE IF EXISTS '+ table )\n",
    "#     return\n",
    "\n",
    "\n"
   ]
  },
  {
   "cell_type": "markdown",
   "id": "b6c349d1",
   "metadata": {},
   "source": [
    "### What are the most popular transport types, measured by the total number of journeys? "
   ]
  },
  {
   "cell_type": "code",
   "execution_count": 10,
   "id": "1e91de1b",
   "metadata": {},
   "outputs": [
    {
     "data": {
      "text/html": [
       "<div>\n",
       "<style scoped>\n",
       "    .dataframe tbody tr th:only-of-type {\n",
       "        vertical-align: middle;\n",
       "    }\n",
       "\n",
       "    .dataframe tbody tr th {\n",
       "        vertical-align: top;\n",
       "    }\n",
       "\n",
       "    .dataframe thead th {\n",
       "        text-align: right;\n",
       "    }\n",
       "</style>\n",
       "<table border=\"1\" class=\"dataframe\">\n",
       "  <thead>\n",
       "    <tr style=\"text-align: right;\">\n",
       "      <th></th>\n",
       "      <th>journey_type</th>\n",
       "      <th>total_journeys_millions</th>\n",
       "    </tr>\n",
       "  </thead>\n",
       "  <tbody>\n",
       "    <tr>\n",
       "      <th>0</th>\n",
       "      <td>Bus</td>\n",
       "      <td>24905.193947</td>\n",
       "    </tr>\n",
       "    <tr>\n",
       "      <th>1</th>\n",
       "      <td>Underground &amp; DLR</td>\n",
       "      <td>15020.466544</td>\n",
       "    </tr>\n",
       "    <tr>\n",
       "      <th>2</th>\n",
       "      <td>Overground</td>\n",
       "      <td>1666.845666</td>\n",
       "    </tr>\n",
       "    <tr>\n",
       "      <th>3</th>\n",
       "      <td>TfL Rail</td>\n",
       "      <td>411.313421</td>\n",
       "    </tr>\n",
       "    <tr>\n",
       "      <th>4</th>\n",
       "      <td>Tram</td>\n",
       "      <td>314.689875</td>\n",
       "    </tr>\n",
       "  </tbody>\n",
       "</table>\n",
       "</div>"
      ],
      "text/plain": [
       "        journey_type  total_journeys_millions\n",
       "0                Bus             24905.193947\n",
       "1  Underground & DLR             15020.466544\n",
       "2         Overground              1666.845666\n",
       "3           TfL Rail               411.313421\n",
       "4               Tram               314.689875"
      ]
     },
     "execution_count": 10,
     "metadata": {},
     "output_type": "execute_result"
    }
   ],
   "source": [
    "query = \"SELECT JOURNEY_TYPE,SUM(JOURNEYS_MILLIONS) AS total_journeys_millions \\\n",
    "FROM tfl_table \\\n",
    "GROUP BY 1 \\\n",
    "ORDER BY 2 DESC;\"\n",
    "\n",
    "new_df = pd.read_sql(query, conn)\n",
    "new_df.head()"
   ]
  },
  {
   "cell_type": "markdown",
   "id": "d26e706e",
   "metadata": {},
   "source": [
    "###  Which five months and years were  the most popular  for Emirates Airline cable car travel"
   ]
  },
  {
   "cell_type": "code",
   "execution_count": 15,
   "id": "8a0dc948",
   "metadata": {},
   "outputs": [
    {
     "data": {
      "text/html": [
       "<div>\n",
       "<style scoped>\n",
       "    .dataframe tbody tr th:only-of-type {\n",
       "        vertical-align: middle;\n",
       "    }\n",
       "\n",
       "    .dataframe tbody tr th {\n",
       "        vertical-align: top;\n",
       "    }\n",
       "\n",
       "    .dataframe thead th {\n",
       "        text-align: right;\n",
       "    }\n",
       "</style>\n",
       "<table border=\"1\" class=\"dataframe\">\n",
       "  <thead>\n",
       "    <tr style=\"text-align: right;\">\n",
       "      <th></th>\n",
       "      <th>month</th>\n",
       "      <th>year</th>\n",
       "      <th>rounded_journeys_millions</th>\n",
       "    </tr>\n",
       "  </thead>\n",
       "  <tbody>\n",
       "    <tr>\n",
       "      <th>0</th>\n",
       "      <td>5</td>\n",
       "      <td>2012</td>\n",
       "      <td>0.53</td>\n",
       "    </tr>\n",
       "    <tr>\n",
       "      <th>1</th>\n",
       "      <td>6</td>\n",
       "      <td>2012</td>\n",
       "      <td>0.38</td>\n",
       "    </tr>\n",
       "    <tr>\n",
       "      <th>2</th>\n",
       "      <td>4</td>\n",
       "      <td>2012</td>\n",
       "      <td>0.24</td>\n",
       "    </tr>\n",
       "    <tr>\n",
       "      <th>3</th>\n",
       "      <td>5</td>\n",
       "      <td>2013</td>\n",
       "      <td>0.19</td>\n",
       "    </tr>\n",
       "    <tr>\n",
       "      <th>4</th>\n",
       "      <td>5</td>\n",
       "      <td>2015</td>\n",
       "      <td>0.19</td>\n",
       "    </tr>\n",
       "  </tbody>\n",
       "</table>\n",
       "</div>"
      ],
      "text/plain": [
       "   month  year  rounded_journeys_millions\n",
       "0      5  2012                       0.53\n",
       "1      6  2012                       0.38\n",
       "2      4  2012                       0.24\n",
       "3      5  2013                       0.19\n",
       "4      5  2015                       0.19"
      ]
     },
     "execution_count": 15,
     "metadata": {},
     "output_type": "execute_result"
    }
   ],
   "source": [
    "query = \"SELECT month,year,ROUND(journeys_millions,2) AS rounded_journeys_millions \\\n",
    "FROM tfl_table \\\n",
    "WHERE journey_type = 'Emirates Airline' and journeys_millions IS NOT NULL \\\n",
    "ORDER BY rounded_journeys_millions DESC, year ASC \\\n",
    "LIMIT 5;\"\n",
    "\n",
    "new_df = pd.read_sql(query, conn)\n",
    "new_df.head(5)"
   ]
  },
  {
   "cell_type": "markdown",
   "id": "a403ba0a",
   "metadata": {},
   "source": [
    "### Find the five years with the lowest volume of popular years for the tube"
   ]
  },
  {
   "cell_type": "code",
   "execution_count": 16,
   "id": "aa9aff52",
   "metadata": {},
   "outputs": [
    {
     "data": {
      "text/html": [
       "<div>\n",
       "<style scoped>\n",
       "    .dataframe tbody tr th:only-of-type {\n",
       "        vertical-align: middle;\n",
       "    }\n",
       "\n",
       "    .dataframe tbody tr th {\n",
       "        vertical-align: top;\n",
       "    }\n",
       "\n",
       "    .dataframe thead th {\n",
       "        text-align: right;\n",
       "    }\n",
       "</style>\n",
       "<table border=\"1\" class=\"dataframe\">\n",
       "  <thead>\n",
       "    <tr style=\"text-align: right;\">\n",
       "      <th></th>\n",
       "      <th>year</th>\n",
       "      <th>journey_type</th>\n",
       "      <th>total_journeys_millions</th>\n",
       "    </tr>\n",
       "  </thead>\n",
       "  <tbody>\n",
       "    <tr>\n",
       "      <th>0</th>\n",
       "      <td>2020</td>\n",
       "      <td>Underground &amp; DLR</td>\n",
       "      <td>310.179316</td>\n",
       "    </tr>\n",
       "    <tr>\n",
       "      <th>1</th>\n",
       "      <td>2021</td>\n",
       "      <td>Underground &amp; DLR</td>\n",
       "      <td>748.452544</td>\n",
       "    </tr>\n",
       "    <tr>\n",
       "      <th>2</th>\n",
       "      <td>2022</td>\n",
       "      <td>Underground &amp; DLR</td>\n",
       "      <td>1064.859009</td>\n",
       "    </tr>\n",
       "    <tr>\n",
       "      <th>3</th>\n",
       "      <td>2010</td>\n",
       "      <td>Underground &amp; DLR</td>\n",
       "      <td>1096.145588</td>\n",
       "    </tr>\n",
       "    <tr>\n",
       "      <th>4</th>\n",
       "      <td>2011</td>\n",
       "      <td>Underground &amp; DLR</td>\n",
       "      <td>1156.647654</td>\n",
       "    </tr>\n",
       "  </tbody>\n",
       "</table>\n",
       "</div>"
      ],
      "text/plain": [
       "   year       journey_type  total_journeys_millions\n",
       "0  2020  Underground & DLR               310.179316\n",
       "1  2021  Underground & DLR               748.452544\n",
       "2  2022  Underground & DLR              1064.859009\n",
       "3  2010  Underground & DLR              1096.145588\n",
       "4  2011  Underground & DLR              1156.647654"
      ]
     },
     "execution_count": 16,
     "metadata": {},
     "output_type": "execute_result"
    }
   ],
   "source": [
    "query = \"SELECT year,journey_type,SUM(journeys_millions) AS total_journeys_millions \\\n",
    "FROM tfl_table \\\n",
    "WHERE journey_type LIKE '%Underground%' \\\n",
    "GROUP BY 1,2 \\\n",
    "ORDER BY 3 ASC \\\n",
    "LIMIT 5;\"\n",
    "\n",
    "new_df = pd.read_sql(query, conn)\n",
    "new_df.head(5)"
   ]
  }
 ],
 "metadata": {
  "kernelspec": {
   "display_name": "Python 3 (ipykernel)",
   "language": "python",
   "name": "python3"
  },
  "language_info": {
   "codemirror_mode": {
    "name": "ipython",
    "version": 3
   },
   "file_extension": ".py",
   "mimetype": "text/x-python",
   "name": "python",
   "nbconvert_exporter": "python",
   "pygments_lexer": "ipython3",
   "version": "3.9.13"
  }
 },
 "nbformat": 4,
 "nbformat_minor": 5
}
